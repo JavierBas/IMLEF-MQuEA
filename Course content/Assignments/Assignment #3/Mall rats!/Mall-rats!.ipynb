{
 "cells": [
  {
   "cell_type": "markdown",
   "metadata": {},
   "source": [
    "# Assignment 3\n",
    "## Topics 7 - 8\n",
    "\n",
    "\n",
    "This assignment is performed **in pairs** following the *Groups for Assignments* list.\n",
    "\n",
    "To turn the assignment in, upload it to the task that has been created in moodle before midnight on Tuesday, November 29.\n",
    "\n",
    "Please, indicate your names in the notebook.\n",
    "\n",
    "--- \n",
    "\n"
   ]
  },
  {
   "cell_type": "markdown",
   "metadata": {},
   "source": [
    "## Introduction"
   ]
  },
  {
   "cell_type": "markdown",
   "metadata": {},
   "source": [
    "<p><img src=\"https://external-content.duckduckgo.com/iu/?u=https%3A%2F%2Fpopgeeks.com%2Fwp-content%2Fuploads%2F2019%2F07%2F5afc8451804d0e9f1a000003.jpeg&f=1&nofb=1&ipt=46b4d14157c2d4d48f7852403cb60dad9e27c8e5a6069088f9171be246941914&ipo=images\" alt=\"Starcourt Mall\"></p>\n"
   ]
  },
  {
   "cell_type": "markdown",
   "metadata": {},
   "source": [
    "You work in the management of a shopping mall. You have some information about the people who shop at the mall such as *Customer ID, age, gender, annual income* and *spending score* (a measure of  purchasing behavior).\n",
    "\n",
    "You are in charge of a marketing project that aims at defining offers targeted to specific consumer segments. In order to do so, you will need to perform a analysis of the information you have, and pass your conclussions to the team that will define this strategy."
   ]
  },
  {
   "cell_type": "markdown",
   "metadata": {},
   "source": [
    "## 1. What characterizes these individuals?\n",
    "\n",
    "Perform a descriptive analysis on the features of this dataset. This will require to obtain basic statistics and plots of each of them, as well as a visualization of their relationships."
   ]
  },
  {
   "cell_type": "markdown",
   "metadata": {},
   "source": [
    "## 2. How you should categorize individuals?\n",
    "\n",
    "In order to target and better define discounts and sales, you want to identify clearly differentiated groups of customers. According to the data exploration you developed above, what are the two most suitable variables to perform this analysis? Plot their scatterplot."
   ]
  },
  {
   "cell_type": "markdown",
   "metadata": {},
   "source": [
    "## 3. Which type of consumers visit this mall?"
   ]
  },
  {
   "cell_type": "markdown",
   "metadata": {},
   "source": [
    "3.1 Implement a K-means clustering using only those two most suitable variables. For starters, run it for 3 clusters (please use as seed 1812)"
   ]
  },
  {
   "cell_type": "markdown",
   "metadata": {},
   "source": [
    "3.2 Create a visualization of the clusters that your model has found."
   ]
  },
  {
   "cell_type": "markdown",
   "metadata": {},
   "source": [
    "3.3 Do you think that this a good categorization?"
   ]
  },
  {
   "cell_type": "markdown",
   "metadata": {},
   "source": [
    "3.4 Since you don't really know if a different numbers of clusters would have performed better, run an analysis to be able to provide a justified choice of the optimal number. Plot all your findings."
   ]
  },
  {
   "cell_type": "markdown",
   "metadata": {},
   "source": [
    "## 4. *This* is my clientele\n",
    "\n",
    "Make a decision on the optimal number of clusters, run the model for them, predict, and plot. Then, provide an **INTUITIVE EXPLANATION** of each cluster. Actually, give a name to each cluster that defines the individuals that compose them."
   ]
  },
  {
   "cell_type": "markdown",
   "metadata": {},
   "source": [
    "---"
   ]
  },
  {
   "cell_type": "markdown",
   "metadata": {},
   "source": [
    "## 5. A more comprehensive analysis\n",
    "\n",
    "Now run a cluster analysis using **all** variables. Once you have fitted your model, since it is composed of more than two variables, you won't be able to plot them. However, find a way of providing a description of the clusters. "
   ]
  },
  {
   "cell_type": "markdown",
   "metadata": {},
   "source": [
    "## 6. Now, the other way around"
   ]
  },
  {
   "cell_type": "markdown",
   "metadata": {},
   "source": [
    "6.1 Run the same analysis using a reduction of all variables. It must gather 95% of the variability of the data."
   ]
  },
  {
   "cell_type": "markdown",
   "metadata": {},
   "source": [
    "6.2 To what extent this results are similar to those without obtained applying a dimensionality reduction?"
   ]
  },
  {
   "cell_type": "markdown",
   "metadata": {},
   "source": [
    "6.3 Whay would one proceed like this? What are the pros and cons?"
   ]
  }
 ],
 "metadata": {
  "kernelspec": {
   "display_name": "Python 3.9.12",
   "language": "python",
   "name": "python3"
  },
  "language_info": {
   "codemirror_mode": {
    "name": "ipython",
    "version": 3
   },
   "file_extension": ".py",
   "mimetype": "text/x-python",
   "name": "python",
   "nbconvert_exporter": "python",
   "pygments_lexer": "ipython3",
   "version": "3.9.12"
  },
  "orig_nbformat": 4,
  "vscode": {
   "interpreter": {
    "hash": "2206d352b29fc2029dce2f7974e3c8d77f4c53f6f83c91a729fc2a85224baedf"
   }
  }
 },
 "nbformat": 4,
 "nbformat_minor": 2
}
