{
  "cells": [
    {
      "cell_type": "markdown",
      "metadata": {
        "id": "m4kF4LrDik2d"
      },
      "source": [
        "#**Topic 5 PArt II – Ensemble methods and Random Forests**"
      ]
    },
    {
      "cell_type": "markdown",
      "source": [
        "[![Open in Colab](https://colab.research.google.com/assets/colab-badge.svg)](https://github.com/JavierBas/IMLEF-MQuEA/blob/main/Course%20content/Notebooks/Topic%205/Topic_5_Part_II_Ensemble_methods_and_Random_Forests.ipynb)"
      ],
      "metadata": {
        "id": "yn5E8Dor3b4r"
      }
    },
    {
      "cell_type": "markdown",
      "metadata": {
        "tags": [],
        "id": "-BLmRXvpik2w"
      },
      "source": [
        "# Setup"
      ]
    },
    {
      "cell_type": "markdown",
      "metadata": {
        "id": "pMaHDCB9ik2z"
      },
      "source": [
        "This project requires Python 3.7 or above:"
      ]
    },
    {
      "cell_type": "code",
      "execution_count": null,
      "metadata": {
        "id": "NmD3mwp4ik2z"
      },
      "outputs": [],
      "source": [
        "import sys\n",
        "\n",
        "assert sys.version_info >= (3, 7)"
      ]
    },
    {
      "cell_type": "markdown",
      "metadata": {
        "id": "wL94FJp-ik23"
      },
      "source": [
        "It also requires Scikit-Learn ≥ 1.0.1:"
      ]
    },
    {
      "cell_type": "code",
      "execution_count": null,
      "metadata": {
        "id": "8weIYfLVik3B"
      },
      "outputs": [],
      "source": [
        "from packaging import version\n",
        "import sklearn\n",
        "\n",
        "assert version.parse(sklearn.__version__) >= version.parse(\"1.0.1\")"
      ]
    },
    {
      "cell_type": "markdown",
      "metadata": {
        "id": "88EEADipik3D"
      },
      "source": [
        "As we did in previous chapters, let's define the default font sizes to make the figures prettier:"
      ]
    },
    {
      "cell_type": "code",
      "execution_count": 1,
      "metadata": {
        "id": "98zS95f3ik3P"
      },
      "outputs": [],
      "source": [
        "import matplotlib.pyplot as plt\n",
        "\n",
        "plt.rc('font', size=14)\n",
        "plt.rc('axes', labelsize=14, titlesize=14)\n",
        "plt.rc('legend', fontsize=14)\n",
        "plt.rc('xtick', labelsize=10)\n",
        "plt.rc('ytick', labelsize=10)"
      ]
    },
    {
      "cell_type": "markdown",
      "metadata": {
        "id": "ji5QSlcIik3S"
      },
      "source": [
        "And let's create the `images/ensembles` folder (if it doesn't already exist), and define the `save_fig()` function which is used through this notebook to save the figures in high-res:"
      ]
    },
    {
      "cell_type": "code",
      "execution_count": 2,
      "metadata": {
        "id": "rGUTVBHWik3U"
      },
      "outputs": [],
      "source": [
        "from pathlib import Path\n",
        "\n",
        "IMAGES_PATH = Path() / \"images\" / \"ensembles\"\n",
        "IMAGES_PATH.mkdir(parents=True, exist_ok=True)\n",
        "\n",
        "def save_fig(fig_id, tight_layout=True, fig_extension=\"png\", resolution=300):\n",
        "    path = IMAGES_PATH / f\"{fig_id}.{fig_extension}\"\n",
        "    if tight_layout:\n",
        "        plt.tight_layout()\n",
        "    plt.savefig(path, format=fig_extension, dpi=resolution)"
      ]
    },
    {
      "cell_type": "markdown",
      "metadata": {
        "id": "981_pcsJik3X"
      },
      "source": [
        "# Voting Classifiers"
      ]
    },
    {
      "cell_type": "markdown",
      "metadata": {
        "id": "BTU2MWJ8ik3f"
      },
      "source": [
        "Let's build a voting classifier.\n",
        "First, let's create some radom data using `make_moons`. It creates a number of observations with *moon* shape, asigning a 0/1 label to each of them."
      ]
    },
    {
      "cell_type": "code",
      "source": [
        "from sklearn.datasets import make_moons\n",
        "X, y = make_moons(n_samples=500, noise=0.30, random_state=42)"
      ],
      "metadata": {
        "id": "f2ir4bI9Kpio"
      },
      "execution_count": 16,
      "outputs": []
    },
    {
      "cell_type": "markdown",
      "source": [
        "Now, let's estiamte three different in nature classifiers: SVC, Logistic Regression, and RF. Then, estimate a *VotingClassifier*, which aggregates the \"votes\""
      ],
      "metadata": {
        "id": "Ekv0f9liK2hu"
      }
    },
    {
      "cell_type": "code",
      "execution_count": 41,
      "metadata": {
        "id": "qnCv6pq8ik3f"
      },
      "outputs": [],
      "source": [
        "\n",
        "from sklearn.model_selection import train_test_split\n",
        "from sklearn.ensemble import RandomForestClassifier, VotingClassifier\n",
        "from sklearn.linear_model import LogisticRegression\n",
        "from sklearn.svm import SVC\n",
        "\n",
        "\n",
        "X_train, X_test, y_train, y_test = train_test_split(X, y, random_state=42)\n",
        "\n",
        "voting_clf = VotingClassifier(\n",
        "    estimators=[\n",
        "        ('lr', LogisticRegression(random_state=42)),\n",
        "        ('rf', RandomForestClassifier(random_state=42)),\n",
        "        ('svc', SVC(random_state=42))\n",
        "        \n",
        "    ]\n",
        ")\n",
        "voting_clf.fit(X_train, y_train)"
      ]
    },
    {
      "cell_type": "markdown",
      "source": [
        "We use the following loop to extract the score of each method (*learner*)\n",
        "This would be equivalent to do, separately:\n",
        "- `voting_clf.named_estimators_.lr.score(X_test, y_test)`\n",
        "- `voting_clf.named_estimators_.rf.score(X_test, y_test)`\n",
        "- `voting_clf.named_estimators_.svc.score(X_test, y_test)` "
      ],
      "metadata": {
        "id": "Y38MujgCLWu0"
      }
    },
    {
      "cell_type": "code",
      "execution_count": 42,
      "metadata": {
        "id": "uQRXOhTpik3g",
        "outputId": "73f02f7b-919d-4389-c7ff-2f425a385570",
        "colab": {
          "base_uri": "https://localhost:8080/"
        }
      },
      "outputs": [
        {
          "output_type": "stream",
          "name": "stdout",
          "text": [
            "lr = 0.864\n",
            "rf = 0.896\n",
            "svc = 0.896\n"
          ]
        }
      ],
      "source": [
        "for name, clf in voting_clf.named_estimators_.items():\n",
        "    print(name, \"=\", clf.score(X_test, y_test))"
      ]
    },
    {
      "cell_type": "markdown",
      "source": [
        "An the prediction of the Voting Classifier (aggregator, ensemble)... is:"
      ],
      "metadata": {
        "id": "xjjmGC_sMlBz"
      }
    },
    {
      "cell_type": "code",
      "execution_count": 43,
      "metadata": {
        "id": "u31CuEIFik3j",
        "outputId": "912d0c45-96d5-4788-8c27-1674c77e516f",
        "colab": {
          "base_uri": "https://localhost:8080/"
        }
      },
      "outputs": [
        {
          "output_type": "execute_result",
          "data": {
            "text/plain": [
              "0.92"
            ]
          },
          "metadata": {},
          "execution_count": 43
        }
      ],
      "source": [
        "voting_clf.score(X_test, y_test)"
      ]
    },
    {
      "cell_type": "markdown",
      "source": [
        "Which is indeed higher than the score of each individual algorithm. This is, ensembling the learners provide a better result."
      ],
      "metadata": {
        "id": "EohgCD-hN5vF"
      }
    },
    {
      "cell_type": "markdown",
      "metadata": {
        "id": "4O6-VvTGik3p"
      },
      "source": [
        "# Random Forests"
      ]
    },
    {
      "cell_type": "code",
      "execution_count": 55,
      "metadata": {
        "id": "ix4tCP--ik3q"
      },
      "outputs": [],
      "source": [
        "from sklearn.ensemble import RandomForestClassifier\n",
        "\n",
        "rnd_clf = RandomForestClassifier(n_estimators=1000, max_leaf_nodes=16,\n",
        "                                 n_jobs=-1, random_state=42) # n_jobs = -1 is for using all cores in your computer\n",
        "rnd_clf.fit(X_train, y_train)\n",
        "y_pred_rf = rnd_clf.predict(X_test)"
      ]
    },
    {
      "cell_type": "markdown",
      "source": [
        "Score"
      ],
      "metadata": {
        "id": "7dgSHQxBRDwz"
      }
    },
    {
      "cell_type": "code",
      "source": [
        "rnd_clf.score(X_test, y_test)"
      ],
      "metadata": {
        "colab": {
          "base_uri": "https://localhost:8080/"
        },
        "id": "k6aKBt5URFly",
        "outputId": "3f2e94c3-eeac-4394-fed1-451570da70aa"
      },
      "execution_count": 56,
      "outputs": [
        {
          "output_type": "execute_result",
          "data": {
            "text/plain": [
              "0.92"
            ]
          },
          "metadata": {},
          "execution_count": 56
        }
      ]
    },
    {
      "cell_type": "markdown",
      "metadata": {
        "id": "gbwQ_Ownik3t"
      },
      "source": [
        "## Feature Importance"
      ]
    },
    {
      "cell_type": "markdown",
      "source": [
        "Let's estimate a random forest for the *iris* dataset"
      ],
      "metadata": {
        "id": "-LCMxd2wRnRx"
      }
    },
    {
      "cell_type": "code",
      "execution_count": 59,
      "metadata": {
        "id": "ddaf2g3cik3u",
        "outputId": "7c8264e4-0082-44e8-fcef-573c6af0eb84",
        "colab": {
          "base_uri": "https://localhost:8080/"
        }
      },
      "outputs": [
        {
          "output_type": "execute_result",
          "data": {
            "text/plain": [
              "RandomForestClassifier(n_estimators=500, random_state=42)"
            ]
          },
          "metadata": {},
          "execution_count": 59
        }
      ],
      "source": [
        "from sklearn.datasets import load_iris\n",
        "\n",
        "iris = load_iris(as_frame=True)\n",
        "rnd_clf = RandomForestClassifier(n_estimators=500, random_state=42)\n",
        "rnd_clf.fit(iris.data, iris.target)\n"
      ]
    },
    {
      "cell_type": "markdown",
      "source": [
        "Feature Importances are obtained with the `feature_importances_` method"
      ],
      "metadata": {
        "id": "Lz6XW29KSBeE"
      }
    },
    {
      "cell_type": "code",
      "source": [
        "rnd_clf.feature_importances_"
      ],
      "metadata": {
        "colab": {
          "base_uri": "https://localhost:8080/"
        },
        "id": "uYK2O8EDR8bs",
        "outputId": "2fe63b76-7eca-4ef9-9f00-4585d632b5d9"
      },
      "execution_count": 61,
      "outputs": [
        {
          "output_type": "execute_result",
          "data": {
            "text/plain": [
              "array([0.11249225, 0.02311929, 0.44103046, 0.423358  ])"
            ]
          },
          "metadata": {},
          "execution_count": 61
        }
      ]
    },
    {
      "cell_type": "markdown",
      "source": [
        "But this loop presents the importances better ( although not ordered)"
      ],
      "metadata": {
        "id": "1JF4JaE5Rwfy"
      }
    },
    {
      "cell_type": "code",
      "source": [
        "for score, name in zip(rnd_clf.feature_importances_, iris.data.columns):\n",
        "    print(round(score, 2), name)"
      ],
      "metadata": {
        "colab": {
          "base_uri": "https://localhost:8080/"
        },
        "id": "ZE5ihA9rR1zo",
        "outputId": "3f7cf7f5-6f12-473b-9d8c-faffcb738f08"
      },
      "execution_count": 60,
      "outputs": [
        {
          "output_type": "stream",
          "name": "stdout",
          "text": [
            "0.11 sepal length (cm)\n",
            "0.02 sepal width (cm)\n",
            "0.44 petal length (cm)\n",
            "0.42 petal width (cm)\n"
          ]
        }
      ]
    },
    {
      "cell_type": "markdown",
      "source": [
        "If we run a RF in the *mnist* dataset and plot the importance of each pixel, we obtained the following interesting chart (it takes one or two minutes to run)"
      ],
      "metadata": {
        "id": "hOwyQCOTSR87"
      }
    },
    {
      "cell_type": "code",
      "execution_count": 62,
      "metadata": {
        "id": "ndjuCsWfik3u",
        "outputId": "6bb2ec52-0d86-4e03-f6ba-77e89dd670a2",
        "colab": {
          "base_uri": "https://localhost:8080/",
          "height": 289
        }
      },
      "outputs": [
        {
          "output_type": "display_data",
          "data": {
            "text/plain": [
              "<Figure size 432x288 with 2 Axes>"
            ],
            "image/png": "[encoded data removed]"
          },
          "metadata": {
            "needs_background": "light"
          }
        }
      ],
      "source": [
        "from sklearn.datasets import fetch_openml\n",
        "\n",
        "X_mnist, y_mnist = fetch_openml('mnist_784', return_X_y=True, as_frame=False)\n",
        "\n",
        "rnd_clf = RandomForestClassifier(n_estimators=100, random_state=42)\n",
        "rnd_clf.fit(X_mnist, y_mnist)\n",
        "\n",
        "# This code is for generating the plot, a heatmap\n",
        "heatmap_image = rnd_clf.feature_importances_.reshape(28, 28)\n",
        "plt.imshow(heatmap_image, cmap=\"hot\")\n",
        "cbar = plt.colorbar(ticks=[rnd_clf.feature_importances_.min(),\n",
        "                           rnd_clf.feature_importances_.max()])\n",
        "cbar.ax.set_yticklabels(['Not important', 'Very important'], fontsize=14)\n",
        "plt.axis(\"off\")\n",
        "save_fig(\"mnist_feature_importance_plot\")\n",
        "plt.show()"
      ]
    }
  ],
  "metadata": {
    "kernelspec": {
      "display_name": "Python 3",
      "language": "python",
      "name": "python3"
    },
    "language_info": {
      "codemirror_mode": {
        "name": "ipython",
        "version": 3
      },
      "file_extension": ".py",
      "mimetype": "text/x-python",
      "name": "python",
      "nbconvert_exporter": "python",
      "pygments_lexer": "ipython3",
      "version": "3.10.6"
    },
    "nav_menu": {
      "height": "252px",
      "width": "333px"
    },
    "toc": {
      "navigate_menu": true,
      "number_sections": true,
      "sideBar": true,
      "threshold": 6,
      "toc_cell": false,
      "toc_section_display": "block",
      "toc_window_display": false
    },
    "colab": {
      "provenance": [],
      "collapsed_sections": []
    }
  },
  "nbformat": 4,
  "nbformat_minor": 0
}